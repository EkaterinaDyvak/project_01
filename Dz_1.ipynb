{
  "nbformat": 4,
  "nbformat_minor": 0,
  "metadata": {
    "colab": {
      "provenance": []
    },
    "kernelspec": {
      "name": "python3",
      "display_name": "Python 3"
    },
    "language_info": {
      "name": "python"
    }
  },
  "cells": [
    {
      "cell_type": "code",
      "source": [
        "radius=36\n",
        "pi=3.1415929\n",
        "s=pi*radius\n",
        "print(round(s,4))"
      ],
      "metadata": {
        "colab": {
          "base_uri": "https://localhost:8080/"
        },
        "id": "evnkVCadAUkT",
        "outputId": "78d685a0-445d-46e1-9c55-e525494a5211"
      },
      "execution_count": null,
      "outputs": [
        {
          "output_type": "stream",
          "name": "stdout",
          "text": [
            "113.0973\n"
          ]
        }
      ]
    },
    {
      "cell_type": "markdown",
      "source": [
        "Д/з: Задача 1.1."
      ],
      "metadata": {
        "id": "3Jm03yiPka7G"
      }
    },
    {
      "cell_type": "code",
      "source": [
        "my_favorite_songs = [\"Waste a Moment\", \"Staying\\' Alive\", \"A Sorta Fairytale\", \"Start Me Up\", \"New Salvation\"]\n",
        "print (my_favorite_songs[0], my_favorite_songs[-1], my_favorite_songs[1], my_favorite_songs[-2])"
      ],
      "metadata": {
        "colab": {
          "base_uri": "https://localhost:8080/"
        },
        "id": "At-xy3QeDtEx",
        "outputId": "65577b48-3286-4196-d7e7-784077ddece2"
      },
      "execution_count": null,
      "outputs": [
        {
          "output_type": "stream",
          "name": "stdout",
          "text": [
            "Waste a Moment New Salvation Staying' Alive Start Me Up\n"
          ]
        }
      ]
    },
    {
      "cell_type": "markdown",
      "source": [
        "Д/з:Задача 1.2 A"
      ],
      "metadata": {
        "id": "_lV_Rb6wrWHH"
      }
    },
    {
      "cell_type": "code",
      "source": [
        "my_favorite_songs = [\n",
        "    ['Waste a Moment', 3.03],\n",
        "    ['New Salvation', 4.02],\n",
        "    ['Staying\\' Alive', 3.40],\n",
        "    ['Out of Touch', 3.03],\n",
        "    ['A Sorta Fairytale', 5.28],\n",
        "    ['Easy', 4.15],\n",
        "    ['Beautiful Day', 4.04],\n",
        "    ['Nowhere to Run', 2.58],\n",
        "    ['In This World', 4.02],\n",
        "]\n",
        "print('три песни звучат', my_favorite_songs[1][1] + my_favorite_songs[5][1] + my_favorite_songs[3][1], 'минут')"
      ],
      "metadata": {
        "colab": {
          "base_uri": "https://localhost:8080/"
        },
        "id": "9NaYkR4yrVSM",
        "outputId": "af92fbbc-1103-4d0e-ac05-2360c9e5fa43"
      },
      "execution_count": null,
      "outputs": [
        {
          "output_type": "stream",
          "name": "stdout",
          "text": [
            "три песни звучат 11.2 минут\n"
          ]
        }
      ]
    },
    {
      "cell_type": "markdown",
      "source": [
        "Д/з:Задача 1.2 B"
      ],
      "metadata": {
        "id": "2lE2Q10IrwyV"
      }
    },
    {
      "cell_type": "code",
      "source": [
        "my_favorite_songs_dict = {\n",
        "    'Waste a Moment': 3.03,\n",
        "    'New Salvation': 4.02,\n",
        "    'Staying\\' Alive': 3.40,\n",
        "    'Out of Touch': 3.03,\n",
        "    'A Sorta Fairytale': 5.28,\n",
        "    'Easy': 4.15,\n",
        "    'Beautiful Day': 4.04,\n",
        "    'Nowhere to Run': 2.58,\n",
        "    'In This World': 4.02,\n",
        "}\n",
        "print('три песни звучат', my_favorite_songs_dict['Waste a Moment'] + my_favorite_songs_dict['Out of Touch'] + my_favorite_songs_dict['In This World'], 'минут')"
      ],
      "metadata": {
        "colab": {
          "base_uri": "https://localhost:8080/"
        },
        "id": "switVaSpr1OX",
        "outputId": "73ea533e-3333-4740-8123-26ec68812eec"
      },
      "execution_count": null,
      "outputs": [
        {
          "output_type": "stream",
          "name": "stdout",
          "text": [
            "три песни звучат 10.079999999999998 минут\n"
          ]
        }
      ]
    },
    {
      "cell_type": "markdown",
      "source": [
        "Д/з:Задача 1.2 C.A\n",
        "\n",
        "```\n",
        "# Выбран кодовый формат\n",
        "```\n",
        "\n"
      ],
      "metadata": {
        "id": "5ePdCw30k2q6"
      }
    },
    {
      "cell_type": "code",
      "source": [
        "import random\n",
        "my_favorite_songs = [\n",
        "    ['Waste a Moment', 3.03],\n",
        "    ['New Salvation', 4.02],\n",
        "    ['Staying\\' Alive', 3.40],\n",
        "    ['Out of Touch', 3.03],\n",
        "    ['A Sorta Fairytale', 5.28],\n",
        "    ['Easy', 4.15],\n",
        "    ['Beautiful Day', 4.04],\n",
        "    ['Nowhere to Run', 2.58],\n",
        "    ['In This World', 4.02],\n",
        "]\n",
        "x=[0, 1, 2, 3, 4, 5, 6, 7, 8]\n",
        "a1=random.choice(x)\n",
        "a2=random.choice(x)\n",
        "a3=random.choice(x)\n",
        "s=my_favorite_songs[a1][1] + my_favorite_songs[a2][1] + my_favorite_songs[a3][1]\n",
        "print('три песни звучат', s, 'минут')"
      ],
      "metadata": {
        "colab": {
          "base_uri": "https://localhost:8080/"
        },
        "id": "iMiXPVnek8RG",
        "outputId": "c716c853-2cca-4268-f68c-e0243a03aae8"
      },
      "execution_count": null,
      "outputs": [
        {
          "output_type": "stream",
          "name": "stdout",
          "text": [
            "три песни звучат 12.46 минут\n"
          ]
        }
      ]
    },
    {
      "cell_type": "markdown",
      "source": [
        "Д/з:Задача 1.2 C.B"
      ],
      "metadata": {
        "id": "-9jscZHCtRhX"
      }
    },
    {
      "cell_type": "code",
      "source": [
        "import random\n",
        "my_favorite_songs_dict = {\n",
        "    'Waste a Moment': 3.03,\n",
        "    'New Salvation': 4.02,\n",
        "    'Staying\\' Alive': 3.40,\n",
        "    'Out of Touch': 3.03,\n",
        "    'A Sorta Fairytale': 5.28,\n",
        "    'Easy': 4.15,\n",
        "    'Beautiful Day': 4.04,\n",
        "    'Nowhere to Run': 2.58,\n",
        "    'In This World': 4.02,\n",
        "}\n",
        "a1=(random.choice(list(my_favorite_songs_dict.items())))\n",
        "a2=(random.choice(list(my_favorite_songs_dict.items())))\n",
        "a3=(random.choice(list(my_favorite_songs_dict.items())))\n",
        "s=a1[1]+a2[1]+a3[1]\n",
        "print('три песни звучат', s, 'минут')"
      ],
      "metadata": {
        "colab": {
          "base_uri": "https://localhost:8080/"
        },
        "id": "pMyN6_KxtWWo",
        "outputId": "a230e86d-f8c0-4132-8dd4-6edde9f18305"
      },
      "execution_count": null,
      "outputs": [
        {
          "output_type": "stream",
          "name": "stdout",
          "text": [
            "три песни звучат 9.459999999999999 минут\n"
          ]
        }
      ]
    },
    {
      "cell_type": "markdown",
      "source": [
        "Д/з:Задача 1.2 D.A"
      ],
      "metadata": {
        "id": "2BJ9I3AJMSBe"
      }
    },
    {
      "cell_type": "code",
      "source": [
        "import random\n",
        "my_favorite_songs = [\n",
        "    ['Waste a Moment', 3.03],\n",
        "    ['New Salvation', 4.02],\n",
        "    ['Staying\\' Alive', 3.40],\n",
        "    ['Out of Touch', 3.03],\n",
        "    ['A Sorta Fairytale', 5.28],\n",
        "    ['Easy', 4.15],\n",
        "    ['Beautiful Day', 4.04],\n",
        "    ['Nowhere to Run', 2.58],\n",
        "    ['In This World', 4.02],\n",
        "]\n",
        "x=[0, 1, 2, 3, 4, 5, 6, 7, 8]\n",
        "a1=random.choice(x)\n",
        "a2=random.choice(x)\n",
        "a3=random.choice(x)\n",
        "s=(my_favorite_songs[a1][1] + my_favorite_songs[a2][1] + my_favorite_songs[a3][1])*60\n",
        "import datetime\n",
        "convert = str(datetime.timedelta(seconds = s))\n",
        "print(convert)"
      ],
      "metadata": {
        "colab": {
          "base_uri": "https://localhost:8080/"
        },
        "id": "TbNPlZuxMXQR",
        "outputId": "96853209-c086-49b7-ed11-751ae39b7cc8"
      },
      "execution_count": 4,
      "outputs": [
        {
          "output_type": "stream",
          "name": "stdout",
          "text": [
            "0:09:39\n"
          ]
        }
      ]
    },
    {
      "cell_type": "markdown",
      "source": [
        "Д/з:Задача 1.2 D.B"
      ],
      "metadata": {
        "id": "GIHhMBhMNJUZ"
      }
    },
    {
      "cell_type": "code",
      "source": [
        "import random\n",
        "my_favorite_songs_dict = {\n",
        "    'Waste a Moment': 3.03,\n",
        "    'New Salvation': 4.02,\n",
        "    'Staying\\' Alive': 3.40,\n",
        "    'Out of Touch': 3.03,\n",
        "    'A Sorta Fairytale': 5.28,\n",
        "    'Easy': 4.15,\n",
        "    'Beautiful Day': 4.04,\n",
        "    'Nowhere to Run': 2.58,\n",
        "    'In This World': 4.02,\n",
        "}\n",
        "a1=(random.choice(list(my_favorite_songs_dict.items())))\n",
        "a2=(random.choice(list(my_favorite_songs_dict.items())))\n",
        "a3=(random.choice(list(my_favorite_songs_dict.items())))\n",
        "s=(a1[1]+a2[1]+a3[1])*60\n",
        "import datetime\n",
        "convert = str(datetime.timedelta(seconds = s))\n",
        "print(convert)"
      ],
      "metadata": {
        "colab": {
          "base_uri": "https://localhost:8080/"
        },
        "id": "ve-fC2QFNLkz",
        "outputId": "10af130e-bdbc-480d-eb36-0e90ac3335c5"
      },
      "execution_count": 5,
      "outputs": [
        {
          "output_type": "stream",
          "name": "stdout",
          "text": [
            "0:11:05.400000\n"
          ]
        }
      ]
    }
  ]
}
 
